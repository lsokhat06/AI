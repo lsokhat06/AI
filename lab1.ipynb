{
  "cells": [
    {
      "cell_type": "markdown",
      "metadata": {
        "id": "fQcvdlwdimQb"
      },
      "source": [
        "**Оцінювання даної роботи буде ураховувати якість Вашого коду та текстових відповідей. При наявності ЛИШЕ коду , робота оцінюватися НЕ БУДЕ.**  \n",
        "\n",
        "**Оформлення текстових відповідей повинно проводитися в текстових комірках ноутбука з використанням синтаксису [LaTeX](https://en.wikibooks.org/wiki/LaTeX/Basics) для оформлення тексту та формул.**\n",
        "\n",
        "**Роботи ідентифіковані як ІДЕНТИЧНІ одразу отримують 0 балів.**\n",
        "\n",
        "**При реалізації завдань потрібно використовувати методи з бібліотеки numpy та pandas.**\n",
        "\n",
        "**Рішення з циклами будуть оцінені в 0 балів.**"
      ]
    },
    {
      "cell_type": "markdown",
      "metadata": {
        "id": "UfI7FZudfGwv"
      },
      "source": [
        "# I. NumPy."
      ]
    },
    {
      "cell_type": "markdown",
      "metadata": {
        "id": "XmA3PWg8fJxn"
      },
      "source": [
        "0. Імпортувати numpy загальноприйнятим способом."
      ]
    },
    {
      "cell_type": "code",
      "execution_count": 1,
      "metadata": {
        "id": "JUli5tR8eTXG"
      },
      "outputs": [],
      "source": [
        "import numpy"
      ]
    },
    {
      "cell_type": "markdown",
      "metadata": {
        "id": "fppWPwoFjTrl"
      },
      "source": [
        "1. Визначити список з оцінками студента(ки) за семестр. Використовуючи його, створити одновимірний масив numpy."
      ]
    },
    {
      "cell_type": "code",
      "execution_count": 2,
      "metadata": {
        "id": "cuvs9lNAjVoB"
      },
      "outputs": [],
      "source": [
        "grades = numpy.array([4, 4, 5, 3, 5, 3, 4, 4])"
      ]
    },
    {
      "cell_type": "markdown",
      "metadata": {
        "id": "OGeLtAwcjcMB"
      },
      "source": [
        "2. Визначити список зі списками, де кожен рядок списку формально означає магазин, а кожна колонка - певний продукт (батон, яйця першої категорії, молоко та ковбаса), а елементами на пересічі є ціни на ці продукти відповідно. Використовуючи цей список, створити матрицю (двовимірний масив) numpy."
      ]
    },
    {
      "cell_type": "code",
      "execution_count": 3,
      "metadata": {
        "id": "zJ9kEAv5jcVo"
      },
      "outputs": [],
      "source": [
        "prices = numpy.array(\n",
        "    [[10, 12, 15, 60],\n",
        "    [11, 14, 17, 57],\n",
        "    [14, 16, 13, 74],\n",
        "    [18, 20, 21, 82]]\n",
        ")"
      ]
    },
    {
      "cell_type": "markdown",
      "metadata": {
        "id": "wK7wrEw2jcix"
      },
      "source": [
        "3. Отримайте тип даних значень з масивів завдань 2 та 3. Виведіть їх на екран."
      ]
    },
    {
      "cell_type": "code",
      "execution_count": 4,
      "metadata": {
        "id": "uDBL1x6vjcq9"
      },
      "outputs": [
        {
          "name": "stdout",
          "output_type": "stream",
          "text": [
            "Data type of grades: int64\n",
            "Data type of prices: int64\n"
          ]
        }
      ],
      "source": [
        "print(\"Data type of grades:\", grades.dtype)\n",
        "print(\"Data type of prices:\", prices.dtype)"
      ]
    },
    {
      "cell_type": "markdown",
      "metadata": {
        "id": "nNhAgsC3jcyp"
      },
      "source": [
        "4. Отримайте форми (кортеж з кількістю рядків та колонок) масивів завдань 2 та 3. Виведіть їх на екран."
      ]
    },
    {
      "cell_type": "code",
      "execution_count": 5,
      "metadata": {
        "id": "Fi5oXTI8jc4-"
      },
      "outputs": [
        {
          "name": "stdout",
          "output_type": "stream",
          "text": [
            "Shape of grades: (8,)\n",
            "Shape of prices: (4, 4)\n"
          ]
        }
      ],
      "source": [
        "print(\"Shape of grades:\", grades.shape)\n",
        "print(\"Shape of prices:\", prices.shape)"
      ]
    },
    {
      "cell_type": "markdown",
      "metadata": {
        "id": "bpY-N8QZjdW-"
      },
      "source": [
        "5. Створіть одновимірний масив за допомогою спеціальної функції numpy, який би відображав динаміку стабільно зростаючого (з рівними проміжками) прибутку з продажів  за тиждень, де у перший день не було продажів, а в останній день тижня вдалося заробити 1000 грн 50 коп."
      ]
    },
    {
      "cell_type": "code",
      "execution_count": 6,
      "metadata": {
        "id": "r3LcjnUKjdeu"
      },
      "outputs": [
        {
          "name": "stdout",
          "output_type": "stream",
          "text": [
            "[   0.    166.75  333.5   500.25  667.    833.75 1000.5 ]\n"
          ]
        }
      ],
      "source": [
        "revenue = numpy.linspace(0, 1000.5, 7)\n",
        "print(revenue)"
      ]
    },
    {
      "cell_type": "markdown",
      "metadata": {
        "id": "zQM0SY9jjebO"
      },
      "source": [
        "6. Створіть два масиви. Використовуючи їх, продемонструйте відмінність вертикального та горизонтального обʼєднання масивів."
      ]
    },
    {
      "cell_type": "code",
      "execution_count": 7,
      "metadata": {
        "id": "8uoi0_lxjeh-"
      },
      "outputs": [
        {
          "name": "stdout",
          "output_type": "stream",
          "text": [
            "Horizontal stack: [ 1  2  3  4  5  2  4  6  8 10]\n",
            "Vertical stack:\n",
            "[[ 1  2  3  4  5]\n",
            " [ 2  4  6  8 10]]\n"
          ]
        }
      ],
      "source": [
        "first_to_stack = numpy.array([1, 2, 3, 4, 5])\n",
        "second_to_stack = numpy.array([2, 4, 6, 8, 10])\n",
        "print(\"Horizontal stack:\", numpy.hstack((first_to_stack, second_to_stack)))\n",
        "print(\"Vertical stack:\", numpy.vstack((first_to_stack, second_to_stack)), sep = '\\n')"
      ]
    },
    {
      "cell_type": "markdown",
      "metadata": {
        "id": "Fwh5D1pDm3t7"
      },
      "source": [
        "7. Визначити функцію, яка приймає на вході масив і транспонує його. Скористайтесь методом reshape. І не забудьте почати з docstrings."
      ]
    },
    {
      "cell_type": "code",
      "execution_count": 8,
      "metadata": {
        "id": "FSWZq0mkm31Z"
      },
      "outputs": [
        {
          "name": "stdout",
          "output_type": "stream",
          "text": [
            "[[1]\n",
            " [2]\n",
            " [3]]\n",
            "[[1 3]\n",
            " [2 4]]\n"
          ]
        }
      ],
      "source": [
        "def transpose_array(array):\n",
        "    '''\n",
        "    This function takes an array (either one-dimensional or multidimensional)\n",
        "    and transposes it. 1D array is reshaped into a column vector.\n",
        "    For multidimensional arrays, all axes are swapped.\n",
        "\n",
        "    Input:\n",
        "    array: numpy.ndarray\n",
        "\n",
        "    Output:\n",
        "    numpy.ndarray: The transposed array.\n",
        "    '''\n",
        "\n",
        "    if array.ndim == 1:\n",
        "        return array.reshape(-1, 1)\n",
        "    \n",
        "    return array.T\n",
        "\n",
        "print(transpose_array(numpy.array([1, 2, 3])))\n",
        "print(transpose_array(numpy.array([[1, 2], [3, 4]])))"
      ]
    },
    {
      "cell_type": "markdown",
      "metadata": {
        "id": "Nnxk8vqYm379"
      },
      "source": [
        "8. Створіть два масиви. Використовучи ці масиви, продемонструйте 1) операцію по-елементного додавання, 2) операцію по-елементного віднімання, 3) множення масиву на число, 4) операцію по-елементного множення, і 5) матричного множення."
      ]
    },
    {
      "cell_type": "code",
      "execution_count": 9,
      "metadata": {
        "id": "qO1rfvmVm4BI"
      },
      "outputs": [
        {
          "name": "stdout",
          "output_type": "stream",
          "text": [
            "Addition:\n",
            "[[ 2  5]\n",
            " [ 8 11]]\n",
            "Subtraction:\n",
            "[[ 0 -1]\n",
            " [-2 -3]]\n",
            "Scalar multiplication:\n",
            "[[2 4]\n",
            " [6 8]]\n",
            "Multiplication:\n",
            "[[ 1  6]\n",
            " [15 28]]\n",
            "Matrix multiplication:\n",
            "[[11 17]\n",
            " [23 37]]\n"
          ]
        }
      ],
      "source": [
        "first = numpy.array([[1, 2], [3, 4]])\n",
        "second = numpy.array([[1, 3], [5, 7]])\n",
        "\n",
        "print(\"Addition:\", first + second, sep = '\\n')\n",
        "print(\"Subtraction:\", first - second, sep = '\\n')\n",
        "print(\"Scalar multiplication:\", first * 2, sep = '\\n')\n",
        "print(\"Multiplication:\", first * second, sep = '\\n')\n",
        "print(\"Matrix multiplication:\", numpy.dot(first, second), sep = '\\n')"
      ]
    },
    {
      "cell_type": "markdown",
      "metadata": {
        "id": "7aGdszTGuMCC"
      },
      "source": [
        "9. Створіть двовимірний масив (матрицю) та розрахуйте: 1) мінімальне число, 2) максимальне число, 3) суму чисел, 4) мінімальні числа для кожного рядка, 5) максимальні числа для кожного стовпчика."
      ]
    },
    {
      "cell_type": "code",
      "execution_count": 11,
      "metadata": {
        "id": "RL_39YdauMKS"
      },
      "outputs": [
        {
          "name": "stdout",
          "output_type": "stream",
          "text": [
            "Minimal element: 1\n",
            "Maximal element: 11\n",
            "Sum of all elements: 46\n",
            "Minimums for each row: [1 2 4]\n",
            "Maximums for each column: [11  4  5]\n"
          ]
        }
      ],
      "source": [
        "matrix = numpy.array([[9, 1, 3], [7, 2, 4], [11, 4, 5]])\n",
        "\n",
        "print(\"Minimal element:\", numpy.min(matrix))\n",
        "print(\"Maximal element:\", numpy.max(matrix))\n",
        "print(\"Sum of all elements:\", numpy.sum(matrix))\n",
        "print(\"Minimums for each row:\", numpy.min(matrix, axis = 1))\n",
        "print(\"Maximums for each column:\", numpy.max(matrix, axis = 0))"
      ]
    },
    {
      "cell_type": "markdown",
      "metadata": {
        "id": "c_hNdOpjHRFo"
      },
      "source": [
        "10. Створіть матрицю , де деякі елементи повторюються. Знайдіть унікальні значення елементів цієї матриці та їхні частоти."
      ]
    },
    {
      "cell_type": "code",
      "execution_count": 49,
      "metadata": {},
      "outputs": [
        {
          "name": "stdout",
          "output_type": "stream",
          "text": [
            "Unique elements: [ 2  3  4  6  7  9 10] Frequencies: [1 2 2 1 1 1 1]\n"
          ]
        }
      ],
      "source": [
        "repeating_matrix = numpy.array([[3, 2, 4], [3, 7, 9], [10, 4, 6]])\n",
        "unique, frequencies = numpy.unique(repeating_matrix, return_counts = True)\n",
        "print(\"Unique elements:\", unique, \"Frequencies:\", frequencies)"
      ]
    },
    {
      "cell_type": "markdown",
      "metadata": {
        "id": "Usj7tyjnprEV"
      },
      "source": [
        "# II. Importing. Creating DF"
      ]
    },
    {
      "cell_type": "markdown",
      "metadata": {
        "id": "ePGNrYa6pxRY"
      },
      "source": [
        "0. Імпортувати бібліотеку pandas"
      ]
    },
    {
      "cell_type": "code",
      "execution_count": 13,
      "metadata": {
        "id": "KIPDNBqQpvkI"
      },
      "outputs": [],
      "source": [
        "import pandas"
      ]
    },
    {
      "cell_type": "markdown",
      "metadata": {
        "id": "8g9-hgi5qWJv"
      },
      "source": [
        "11. Створити тестовий датафрейм зі списку, що містить записи пацієнтів про їхні прізвища, імена, дату народження, масу тіла та наявність медичного страхування. Одне зі значень зробить пустим. Ознайомтесь з типом кожної колонки."
      ]
    },
    {
      "cell_type": "code",
      "execution_count": 15,
      "metadata": {
        "id": "OvA4GvJ5qYb1"
      },
      "outputs": [],
      "source": [
        "patients = [\n",
        "    {\"Прізвище\": \"Іванов\", \"Ім'я\": \"Іван\", \"Дата народження\": \"1985-02-10\", \"Маса тіла\": 75, \"Медичне страхування\": True},\n",
        "    {\"Прізвище\": \"Петренко\", \"Ім'я\": \"Олександр\", \"Дата народження\": \"1992-08-15\", \"Маса тіла\": 82, \"Медичне страхування\": False},\n",
        "    {\"Прізвище\": \"Сидорова\", \"Ім'я\": \"Марія\", \"Дата народження\": \"1990-11-23\", \"Маса тіла\": 60, \"Медичне страхування\": numpy.nan},\n",
        "    {\"Прізвище\": \"Ковальчук\", \"Ім'я\": \"Анна\", \"Дата народження\": \"1988-03-05\", \"Маса тіла\": 70, \"Медичне страхування\": True}\n",
        "]\n",
        "\n",
        "patients_dataframe = pandas.DataFrame(patients)"
      ]
    },
    {
      "cell_type": "code",
      "execution_count": 16,
      "metadata": {
        "id": "9ioPRVvxqcQ7"
      },
      "outputs": [
        {
          "name": "stdout",
          "output_type": "stream",
          "text": [
            "Types:\n",
            "Прізвище               object\n",
            "Ім'я                   object\n",
            "Дата народження        object\n",
            "Маса тіла               int64\n",
            "Медичне страхування    object\n",
            "dtype: object\n"
          ]
        }
      ],
      "source": [
        "print(\"Types:\", patients_dataframe.dtypes, sep = '\\n')\n"
      ]
    },
    {
      "cell_type": "markdown",
      "metadata": {
        "id": "b1SvVHjjqcv-"
      },
      "source": [
        "# III. Reading from file"
      ]
    },
    {
      "cell_type": "markdown",
      "metadata": {
        "id": "7HhZWLs_qhgq"
      },
      "source": [
        "12. Завантажити файл missile_attacks_daily.csv з [Kaggle](https://www.kaggle.com/datasets/piterfm/massive-missile-attacks-on-ukraine?select=missile_attacks_daily.csv). Ознайомитись з описом датасету. Додати файл до папки поточної сесії colab notebook на панелі ліворуч або на гугл диск (локально до проєкту, якщо працюєте у пайчармі). Зчитати датафрейм з файлу та вивести датафрейм на екран. Зверніть увагу на те, щоб всі колонки відповідали наведеним у описі типам даних."
      ]
    },
    {
      "cell_type": "code",
      "execution_count": 20,
      "metadata": {
        "id": "oQcB3kIqqg0h"
      },
      "outputs": [
        {
          "name": "stdout",
          "output_type": "stream",
          "text": [
            "            time_start          time_end               model  \\\n",
            "0     2025-01-18 20:00  2025-01-19 09:00      Shahed-136/131   \n",
            "1     2025-01-17 19:00  2025-01-18 08:00      Shahed-136/131   \n",
            "2     2025-01-16 19:00  2025-01-17 09:00      Shahed-136/131   \n",
            "3     2025-01-16 19:00  2025-01-17 09:00    Iskander-M/KN-23   \n",
            "4     2025-01-16 19:00  2025-01-17 09:00          Iskander-M   \n",
            "...                ...               ...                 ...   \n",
            "2039  2022-10-01 12:00  2022-10-01 12:00            Orlan-10   \n",
            "2040        2022-09-30        2022-09-30            Orlan-10   \n",
            "2041  2022-09-29 23:00  2022-09-29 23:59      Shahed-136/131   \n",
            "2042        2022-09-28        2022-09-28                X-59   \n",
            "2043        2022-09-28        2022-09-28  Reconnaissance UAV   \n",
            "\n",
            "                                           launch_place  \\\n",
            "0         Bryansk oblast and Oryol oblast and Millerovo   \n",
            "1     Primorsko-Akhtarsk and Bryansk oblast and Mill...   \n",
            "2     Primorsko-Akhtarsk and Kursk oblast and Bryans...   \n",
            "3                    Bryansk oblast and Voronezh oblast   \n",
            "4                                         Rostov oblast   \n",
            "...                                                 ...   \n",
            "2039                                                NaN   \n",
            "2040                                                NaN   \n",
            "2041                                                NaN   \n",
            "2042                                                NaN   \n",
            "2043                                                NaN   \n",
            "\n",
            "                                             target carrier  launched  \\\n",
            "0                                           Ukraine     NaN      61.0   \n",
            "1                                           Ukraine     NaN      39.0   \n",
            "2                                           Ukraine     NaN      50.0   \n",
            "3                                       Kyiv oblast     NaN       4.0   \n",
            "4                                           Ukraine     NaN       2.0   \n",
            "...                                             ...     ...       ...   \n",
            "2039                                        Ukraine     NaN       1.0   \n",
            "2040                                        Ukraine     NaN       3.0   \n",
            "2041               Odesa oblast and Mykolaiv oblast     NaN       7.0   \n",
            "2042  Dnipropetrovsk oblast and Zaporizhzhia oblast   Su-35       5.0   \n",
            "2043                                        Ukraine     NaN       3.0   \n",
            "\n",
            "      destroyed  not_reach_goal  cross_border_belarus  back_russia  \\\n",
            "0            43            15.0                   NaN          NaN   \n",
            "1            24            14.0                   NaN          NaN   \n",
            "2            33             9.0                   NaN          NaN   \n",
            "3             2             NaN                   NaN          NaN   \n",
            "4             0             NaN                   NaN          NaN   \n",
            "...         ...             ...                   ...          ...   \n",
            "2039          1             NaN                   NaN          NaN   \n",
            "2040          3             NaN                   NaN          NaN   \n",
            "2041          5             NaN                   NaN          NaN   \n",
            "2042          4             NaN                   NaN          NaN   \n",
            "2043          3             NaN                   NaN          NaN   \n",
            "\n",
            "      still_attacking                                  destroyed_details  \\\n",
            "0                 1.0  {'Mykolaiv oblast': NaN,    'Kyiv oblast': NaN...   \n",
            "1                 NaN  {'Kherson oblast': NaN, 'Khmelnytskyi oblast':...   \n",
            "2                 NaN  {'Odesa oblast and Mykolaiv oblast': 7, 'Khmel...   \n",
            "3                 NaN                                                NaN   \n",
            "4                 NaN                                                NaN   \n",
            "...               ...                                                ...   \n",
            "2039              NaN                                                NaN   \n",
            "2040              NaN                                                NaN   \n",
            "2041              NaN                                                NaN   \n",
            "2042              NaN                                                NaN   \n",
            "2043              NaN                                                NaN   \n",
            "\n",
            "     launched_details launch_place_details  \\\n",
            "0                 NaN                  NaN   \n",
            "1                 NaN                  NaN   \n",
            "2                 NaN                  NaN   \n",
            "3                 NaN                  NaN   \n",
            "4                 NaN                  NaN   \n",
            "...               ...                  ...   \n",
            "2039              NaN                  NaN   \n",
            "2040              NaN                  NaN   \n",
            "2041              NaN                  NaN   \n",
            "2042              NaN                  NaN   \n",
            "2043              NaN                  NaN   \n",
            "\n",
            "                                                 source  \n",
            "0     kpszsu/posts/pfbid0meYNAsX4voALE4SXunVpzKTwzrJ...  \n",
            "1     kpszsu/posts/pfbid0Rpzfu7u9ERu4o49Gm12eqSogKvZ...  \n",
            "2     kpszsu/posts/pfbid0Gvye9Wn2gj8RPiiGaTQFGRas9Yg...  \n",
            "3     kpszsu/posts/pfbid0Rpzfu7u9ERu4o49Gm12eqSogKvZ...  \n",
            "4     kpszsu/posts/pfbid0Gvye9Wn2gj8RPiiGaTQFGRas9Yg...  \n",
            "...                                                 ...  \n",
            "2039                           watch/?v=375517448001233  \n",
            "2040  kpszsu/posts/pfbid0nELeXY4BpHrezv54Lk3gWPZJmcC...  \n",
            "2041  kpszsu/posts/pfbid021aK2TqryAuB8gGrDYMTv3R8Xiu...  \n",
            "2042  kpszsu/posts/pfbid02sjn5m7kosAfsm5bSUzpPwbLuH3...  \n",
            "2043  kpszsu/posts/pfbid0grmBx6A5LbQ7PVTkSx7jTDgg4iU...  \n",
            "\n",
            "[2044 rows x 16 columns]\n"
          ]
        }
      ],
      "source": [
        "missile_attacks = pandas.read_csv('missile_attacks_daily.csv')\n",
        "print(missile_attacks)"
      ]
    },
    {
      "cell_type": "markdown",
      "metadata": {
        "id": "89zu0WNErzd2"
      },
      "source": [
        "# IV. Data understanding"
      ]
    },
    {
      "cell_type": "markdown",
      "metadata": {
        "id": "LJqrTfHr2d1G"
      },
      "source": [
        "13. Виведіть на екран перші 10 рядків зчитаного датафрейму."
      ]
    },
    {
      "cell_type": "code",
      "execution_count": 21,
      "metadata": {
        "id": "GdVE9WYwr1sD"
      },
      "outputs": [
        {
          "name": "stdout",
          "output_type": "stream",
          "text": [
            "         time_start          time_end             model  \\\n",
            "0  2025-01-18 20:00  2025-01-19 09:00    Shahed-136/131   \n",
            "1  2025-01-17 19:00  2025-01-18 08:00    Shahed-136/131   \n",
            "2  2025-01-16 19:00  2025-01-17 09:00    Shahed-136/131   \n",
            "3  2025-01-16 19:00  2025-01-17 09:00  Iskander-M/KN-23   \n",
            "4  2025-01-16 19:00  2025-01-17 09:00        Iskander-M   \n",
            "5  2025-01-15 20:00  2025-01-16 09:00    Shahed-136/131   \n",
            "6  2025-01-15 06:00  2025-01-15 08:00         X-59/X-69   \n",
            "7  2025-01-15 06:00  2025-01-15 08:00         X-22/X-32   \n",
            "8  2025-01-15 06:00  2025-01-15 08:00       X-101/X-555   \n",
            "9  2025-01-15 06:00  2025-01-15 08:00            Kalibr   \n",
            "\n",
            "                                        launch_place       target  carrier  \\\n",
            "0      Bryansk oblast and Oryol oblast and Millerovo      Ukraine      NaN   \n",
            "1  Primorsko-Akhtarsk and Bryansk oblast and Mill...      Ukraine      NaN   \n",
            "2  Primorsko-Akhtarsk and Kursk oblast and Bryans...      Ukraine      NaN   \n",
            "3                 Bryansk oblast and Voronezh oblast  Kyiv oblast      NaN   \n",
            "4                                      Rostov oblast      Ukraine      NaN   \n",
            "5  Primorsko-Akhtarsk and Bryansk oblast and Oryo...      Ukraine      NaN   \n",
            "6                                    Belgorod oblast      Ukraine      NaN   \n",
            "7                                        Tula oblast      Ukraine  Tu-22M3   \n",
            "8                                   Volgograd oblast      Ukraine  Tu-95MS   \n",
            "9                                          Black Sea      Ukraine     Navi   \n",
            "\n",
            "   launched  destroyed  not_reach_goal  cross_border_belarus  back_russia  \\\n",
            "0      61.0         43            15.0                   NaN          NaN   \n",
            "1      39.0         24            14.0                   NaN          NaN   \n",
            "2      50.0         33             9.0                   NaN          NaN   \n",
            "3       4.0          2             NaN                   NaN          NaN   \n",
            "4       2.0          0             NaN                   NaN          NaN   \n",
            "5      55.0         34            18.0                   NaN          NaN   \n",
            "6       4.0          4             NaN                   NaN          NaN   \n",
            "7       7.0          0             NaN                   NaN          NaN   \n",
            "8      27.0         23             NaN                   NaN          NaN   \n",
            "9       4.0          3             NaN                   NaN          NaN   \n",
            "\n",
            "   still_attacking                                  destroyed_details  \\\n",
            "0              1.0  {'Mykolaiv oblast': NaN,    'Kyiv oblast': NaN...   \n",
            "1              NaN  {'Kherson oblast': NaN, 'Khmelnytskyi oblast':...   \n",
            "2              NaN  {'Odesa oblast and Mykolaiv oblast': 7, 'Khmel...   \n",
            "3              NaN                                                NaN   \n",
            "4              NaN                                                NaN   \n",
            "5              NaN  {'Mykolaiv oblast': 5, 'Kyiv oblast': NaN, 'Su...   \n",
            "6              NaN                                                NaN   \n",
            "7              NaN                                                NaN   \n",
            "8              NaN                                       {'west': 20}   \n",
            "9              NaN                                       {'south': 1}   \n",
            "\n",
            "  launched_details launch_place_details  \\\n",
            "0              NaN                  NaN   \n",
            "1              NaN                  NaN   \n",
            "2              NaN                  NaN   \n",
            "3              NaN                  NaN   \n",
            "4              NaN                  NaN   \n",
            "5              NaN                  NaN   \n",
            "6              NaN                  NaN   \n",
            "7              NaN                  NaN   \n",
            "8              NaN                  NaN   \n",
            "9              NaN                  NaN   \n",
            "\n",
            "                                              source  \n",
            "0  kpszsu/posts/pfbid0meYNAsX4voALE4SXunVpzKTwzrJ...  \n",
            "1  kpszsu/posts/pfbid0Rpzfu7u9ERu4o49Gm12eqSogKvZ...  \n",
            "2  kpszsu/posts/pfbid0Gvye9Wn2gj8RPiiGaTQFGRas9Yg...  \n",
            "3  kpszsu/posts/pfbid0Rpzfu7u9ERu4o49Gm12eqSogKvZ...  \n",
            "4  kpszsu/posts/pfbid0Gvye9Wn2gj8RPiiGaTQFGRas9Yg...  \n",
            "5  kpszsu/posts/pfbid0tPwzQHvvr63PbehDshED2WNV2vm...  \n",
            "6  kpszsu/posts/pfbid0kLxxfDQRTeUt5wQT5eahJVkW1fb...  \n",
            "7  kpszsu/posts/pfbid0kLxxfDQRTeUt5wQT5eahJVkW1fb...  \n",
            "8  kpszsu/posts/pfbid0kLxxfDQRTeUt5wQT5eahJVkW1fb...  \n",
            "9  kpszsu/posts/pfbid0kLxxfDQRTeUt5wQT5eahJVkW1fb...  \n"
          ]
        }
      ],
      "source": [
        "print(missile_attacks.head(10))\n"
      ]
    },
    {
      "cell_type": "markdown",
      "metadata": {
        "id": "1PtkLHWj2lq0"
      },
      "source": [
        "14. Отримайте інформацію про форму датафрейму."
      ]
    },
    {
      "cell_type": "code",
      "execution_count": 22,
      "metadata": {
        "id": "CBPTYTjV2mtG"
      },
      "outputs": [
        {
          "name": "stdout",
          "output_type": "stream",
          "text": [
            "Shape of the dataframe: (2044, 16)\n"
          ]
        }
      ],
      "source": [
        "print(\"Shape of the dataframe:\", missile_attacks.shape)\n"
      ]
    },
    {
      "cell_type": "markdown",
      "metadata": {
        "id": "GDVcFC6F2yVz"
      },
      "source": [
        "15. Отримайте дані про кожну колонку з її назвою, типом даних та кількістю непустих значень."
      ]
    },
    {
      "cell_type": "code",
      "execution_count": 24,
      "metadata": {
        "id": "GTRgfKJ920bn"
      },
      "outputs": [
        {
          "name": "stdout",
          "output_type": "stream",
          "text": [
            "<class 'pandas.core.frame.DataFrame'>\n",
            "RangeIndex: 2044 entries, 0 to 2043\n",
            "Data columns (total 16 columns):\n",
            " #   Column                Non-Null Count  Dtype  \n",
            "---  ------                --------------  -----  \n",
            " 0   time_start            2044 non-null   object \n",
            " 1   time_end              2044 non-null   object \n",
            " 2   model                 2044 non-null   object \n",
            " 3   launch_place          1023 non-null   object \n",
            " 4   target                2016 non-null   object \n",
            " 5   carrier               225 non-null    object \n",
            " 6   launched              2041 non-null   float64\n",
            " 7   destroyed             2044 non-null   int64  \n",
            " 8   not_reach_goal        157 non-null    float64\n",
            " 9   cross_border_belarus  32 non-null     float64\n",
            " 10  back_russia           34 non-null     float64\n",
            " 11  still_attacking       28 non-null     float64\n",
            " 12  destroyed_details     294 non-null    object \n",
            " 13  launched_details      4 non-null      object \n",
            " 14  launch_place_details  4 non-null      object \n",
            " 15  source                2044 non-null   object \n",
            "dtypes: float64(5), int64(1), object(10)\n",
            "memory usage: 255.6+ KB\n"
          ]
        }
      ],
      "source": [
        "missile_attacks.info()"
      ]
    },
    {
      "cell_type": "markdown",
      "metadata": {
        "id": "DEy-hgsw2452"
      },
      "source": [
        "16. Отримайте статистику для колонок числового типу."
      ]
    },
    {
      "cell_type": "code",
      "execution_count": 35,
      "metadata": {
        "id": "94mI2N9t267Q"
      },
      "outputs": [
        {
          "name": "stdout",
          "output_type": "stream",
          "text": [
            "Info about the numerical data:\n",
            "          launched    destroyed  not_reach_goal  cross_border_belarus  \\\n",
            "count  2041.000000  2044.000000      157.000000             32.000000   \n",
            "mean     10.609995     7.491683       20.828025              2.312500   \n",
            "std      21.041038    14.190972       19.877245              2.054696   \n",
            "min       1.000000     0.000000        1.000000              1.000000   \n",
            "25%       1.000000     1.000000        4.000000              1.000000   \n",
            "50%       2.000000     1.000000       16.000000              2.000000   \n",
            "75%       9.000000     7.000000       30.000000              2.000000   \n",
            "max     193.000000    99.000000      105.000000             10.000000   \n",
            "\n",
            "       back_russia  still_attacking  \n",
            "count    34.000000        28.000000  \n",
            "mean      2.000000         2.821429  \n",
            "std       1.154701         2.931989  \n",
            "min       1.000000         1.000000  \n",
            "25%       1.000000         1.000000  \n",
            "50%       2.000000         1.000000  \n",
            "75%       3.000000         4.000000  \n",
            "max       5.000000        10.000000  \n"
          ]
        }
      ],
      "source": [
        "print(\"Info about the numerical data:\", missile_attacks.describe(), sep = '\\n')"
      ]
    },
    {
      "cell_type": "markdown",
      "metadata": {
        "id": "n0MGJU2C2-iD"
      },
      "source": [
        "17. Отримати кількість унікальних значень у кожній колонці. Вивести на екран значення та кількість цих значень у колонці, яка має найменше унікальних значень."
      ]
    },
    {
      "cell_type": "code",
      "execution_count": 36,
      "metadata": {
        "id": "lQh_jdGe3BK5"
      },
      "outputs": [],
      "source": [
        "unique_counts = missile_attacks.nunique()\n",
        "min_unique_column = unique_counts.idxmin()\n",
        "min_unique_counts = missile_attacks[min_unique_column].value_counts()"
      ]
    },
    {
      "cell_type": "code",
      "execution_count": 40,
      "metadata": {
        "id": "BlAeyE2q3tgd"
      },
      "outputs": [
        {
          "name": "stdout",
          "output_type": "stream",
          "text": [
            "time_start               864\n",
            "time_end                1015\n",
            "model                     61\n",
            "launch_place             135\n",
            "target                    97\n",
            "carrier                   58\n",
            "launched                 113\n",
            "destroyed                 81\n",
            "not_reach_goal            55\n",
            "cross_border_belarus       7\n",
            "back_russia                5\n",
            "still_attacking            8\n",
            "destroyed_details        290\n",
            "launched_details           4\n",
            "launch_place_details       4\n",
            "source                   960\n",
            "dtype: int64\n",
            "Values ​​in the column that has the least number of unique values:\n",
            "launched_details\n",
            "{'X-101/X-555': 50, 'Kalibr': 12}                     1\n",
            "{'X-101/X-555': 55, 'Kalibr': 24, 'Iskander-K': 7}    1\n",
            "{'X-101/X-555': 57, 'Kalibr': 28}                     1\n",
            "{'X-101/X-555': 77, 'Kalibr': 28, 'X-59/X-69': 10}    1\n",
            "Name: count, dtype: int64\n"
          ]
        }
      ],
      "source": [
        "print(unique_counts)\n",
        "print(\"Values ​​in the column that has the least number of unique values:\", min_unique_counts, sep = '\\n')"
      ]
    },
    {
      "cell_type": "markdown",
      "metadata": {
        "id": "iVRkzUti3uC_"
      },
      "source": [
        "18. На основі отриманої інформації про датасет вище, опишіть по пунктах, що б ви виправили або на що б звернули увагу на кроці очищення даних і чому?"
      ]
    },
    {
      "cell_type": "markdown",
      "metadata": {
        "id": "9_Q-Fcuo30zY"
      },
      "source": [
        "1.   У колонках launch_place, target, carrier, not_reach_goal, cross_border_belarus, back_russia, still_attacking, destroyed_details, launched_details та launch_place_details спостерігаються значні кількості пропущених значень. Можна реструктурувати таблицю або розбити її на декілька менших.\n",
        "2.   Колонки time_start та time_end мають неоднозначний формат, що ускладнює роботу з даними."
      ]
    },
    {
      "cell_type": "markdown",
      "metadata": {
        "id": "Ue9ECz5-3_pq"
      },
      "source": [
        "# V. Data Cleaning"
      ]
    },
    {
      "cell_type": "markdown",
      "metadata": {
        "id": "ZtHUiSrV4CL-"
      },
      "source": [
        "19. Перетворити колонку launched у цілочислену (Int64). Перевірити, чи все пройшло, як очікувалось."
      ]
    },
    {
      "cell_type": "code",
      "execution_count": 41,
      "metadata": {
        "id": "AWyo_-Un3xqz"
      },
      "outputs": [],
      "source": [
        "missile_attacks['launched'] = missile_attacks['launched'].fillna(0)\n",
        "missile_attacks['launched'] = missile_attacks['launched'].astype('Int64')"
      ]
    },
    {
      "cell_type": "code",
      "execution_count": 42,
      "metadata": {
        "id": "ys_OfWeQ4OjW"
      },
      "outputs": [
        {
          "name": "stdout",
          "output_type": "stream",
          "text": [
            "Int64\n"
          ]
        }
      ],
      "source": [
        "print(missile_attacks['launched'].dtypes)"
      ]
    },
    {
      "cell_type": "markdown",
      "metadata": {
        "id": "KsHhM4EM4O3d"
      },
      "source": [
        "20. Видалити колонки, де кількість непустих значень становить менше 30% від загальної кількості записів."
      ]
    },
    {
      "cell_type": "code",
      "execution_count": 43,
      "metadata": {
        "id": "Z1ZCclle4Vyk"
      },
      "outputs": [],
      "source": [
        "threshold = 0.3 * len(missile_attacks)\n",
        "missile_attacks = missile_attacks.loc[:, missile_attacks.notnull().sum() >= threshold]"
      ]
    },
    {
      "cell_type": "code",
      "execution_count": 44,
      "metadata": {
        "id": "MGrORLGe4XA2"
      },
      "outputs": [
        {
          "name": "stdout",
          "output_type": "stream",
          "text": [
            "<class 'pandas.core.frame.DataFrame'>\n",
            "RangeIndex: 2044 entries, 0 to 2043\n",
            "Data columns (total 8 columns):\n",
            " #   Column        Non-Null Count  Dtype \n",
            "---  ------        --------------  ----- \n",
            " 0   time_start    2044 non-null   object\n",
            " 1   time_end      2044 non-null   object\n",
            " 2   model         2044 non-null   object\n",
            " 3   launch_place  1023 non-null   object\n",
            " 4   target        2016 non-null   object\n",
            " 5   launched      2044 non-null   Int64 \n",
            " 6   destroyed     2044 non-null   int64 \n",
            " 7   source        2044 non-null   object\n",
            "dtypes: Int64(1), int64(1), object(6)\n",
            "memory usage: 129.9+ KB\n"
          ]
        }
      ],
      "source": [
        "missile_attacks.info()"
      ]
    },
    {
      "cell_type": "markdown",
      "metadata": {
        "id": "p8cD0M0U4cNT"
      },
      "source": [
        "21. Очистити датафрейм від дублікатів (дублюючихся рядків) та записів, де атака продовжувалась відʼємну або нульову кількість часу (що фізично неможливо). Не забудьте оновити індекс. Скільки рядків було видалено? Як ви це перевірили у коді?"
      ]
    },
    {
      "cell_type": "code",
      "execution_count": 45,
      "metadata": {
        "id": "in3Fvn0I4l-I"
      },
      "outputs": [
        {
          "name": "stdout",
          "output_type": "stream",
          "text": [
            "Number of deleted rows: 836\n"
          ]
        }
      ],
      "source": [
        "initial_count = missile_attacks.shape[0]\n",
        "\n",
        "missile_attacks['time_start'] = pandas.to_datetime(missile_attacks['time_start'], format = \"mixed\")\n",
        "missile_attacks['time_end'] = pandas.to_datetime(missile_attacks['time_end'], format = \"mixed\")\n",
        "missile_attacks['duration'] = (missile_attacks['time_end'] - missile_attacks['time_start']).dt.total_seconds()\n",
        "\n",
        "missile_attacks = missile_attacks.drop_duplicates()\n",
        "missile_attacks = missile_attacks[missile_attacks['duration'] > 0]\n",
        "\n",
        "missile_attacks.reset_index(drop = True, inplace = True)\n",
        "\n",
        "final_count = missile_attacks.shape[0]\n",
        "\n",
        "print(\"Number of deleted rows:\", initial_count - final_count)\n",
        "\n"
      ]
    },
    {
      "cell_type": "markdown",
      "metadata": {
        "id": "8zqL82Ie4nqY"
      },
      "source": [
        "**місце для текстової відповіді**"
      ]
    },
    {
      "cell_type": "markdown",
      "metadata": {},
      "source": [
        "Щоб знайти кількість видалених рядків, необхідно зафіксувати їх кількість до і після перетворення, а потім від початкової кількості відняти кінцеву."
      ]
    },
    {
      "cell_type": "markdown",
      "metadata": {
        "id": "6oZ7C_ry4uvb"
      },
      "source": [
        "22. Виведіть на екран всі рядки, де є хоч одне пропущене значення."
      ]
    },
    {
      "cell_type": "code",
      "execution_count": 46,
      "metadata": {
        "id": "BPmCTDtg4wVS"
      },
      "outputs": [
        {
          "name": "stdout",
          "output_type": "stream",
          "text": [
            "              time_start            time_end                   model  \\\n",
            "25   2025-01-03 12:00:00 2025-01-03 20:00:00               X-59/X-69   \n",
            "27   2025-01-03 12:00:00 2025-01-03 20:00:00              Iskander-M   \n",
            "28   2025-01-03 12:00:00 2025-01-03 20:00:00                   C-300   \n",
            "45   2024-12-25 05:00:00 2024-12-25 10:00:00  X-101/X-555 and Kalibr   \n",
            "64   2024-12-14 19:00:00 2024-12-15 08:30:00                   C-300   \n",
            "...                  ...                 ...                     ...   \n",
            "1203 2022-10-06 09:00:00 2022-10-06 11:30:00               Mohajer-6   \n",
            "1204 2022-10-06 00:00:00 2022-10-06 02:00:00          Shahed-136/131   \n",
            "1205 2022-10-05 00:00:00 2022-10-05 02:00:00          Shahed-136/131   \n",
            "1206 2022-10-02 00:00:00 2022-10-02 02:00:00          Shahed-136/131   \n",
            "1207 2022-09-29 23:00:00 2022-09-29 23:59:00          Shahed-136/131   \n",
            "\n",
            "     launch_place                            target  launched  destroyed  \\\n",
            "25            NaN             Dnipropetrovsk oblast         3          3   \n",
            "27            NaN                  Chernihiv oblast         3          0   \n",
            "28            NaN                      Kursk oblast         5          0   \n",
            "45            NaN                           Ukraine        62         55   \n",
            "64            NaN                           Ukraine         1          0   \n",
            "...           ...                               ...       ...        ...   \n",
            "1203          NaN                   Mykolaiv oblast         1          1   \n",
            "1204          NaN                             south         9          9   \n",
            "1205          NaN                             south         6          6   \n",
            "1206          NaN                   Mykolaiv oblast         7          5   \n",
            "1207          NaN  Odesa oblast and Mykolaiv oblast         7          5   \n",
            "\n",
            "                                                 source  duration  \n",
            "25    kpszsu/posts/pfbid02v1KGGb6TjgiYbVUoMCWPuAVZYn...   28800.0  \n",
            "27    kpszsu/posts/pfbid02v1KGGb6TjgiYbVUoMCWPuAVZYn...   28800.0  \n",
            "28    kpszsu/posts/pfbid02v1KGGb6TjgiYbVUoMCWPuAVZYn...   28800.0  \n",
            "45    kpszsu/posts/pfbid02YK2sa7Z1E1QFpPfQVTMhRjj4QC...   18000.0  \n",
            "64    kpszsu/posts/pfbid02HZKn1S4PTdUZGmN8LB12imWDN1...   48600.0  \n",
            "...                                                 ...       ...  \n",
            "1203  kpszsu/posts/pfbid02YPkepucHoDQbmGfZURk8ScqNyM...    9000.0  \n",
            "1204  kpszsu/posts/pfbid0cUxYK69qorY8Td3GYrEifznzmJd...    7200.0  \n",
            "1205  kpszsu/posts/pfbid0ijKPtn19ybY71UFsnyhNA7YCx9i...    7200.0  \n",
            "1206  kpszsu/posts/pfbid021aK2TqryAuB8gGrDYMTv3R8Xiu...    7200.0  \n",
            "1207  kpszsu/posts/pfbid021aK2TqryAuB8gGrDYMTv3R8Xiu...    3540.0  \n",
            "\n",
            "[285 rows x 9 columns]\n"
          ]
        }
      ],
      "source": [
        "print(missile_attacks[missile_attacks.isnull().any(axis = 1)])"
      ]
    }
  ],
  "metadata": {
    "colab": {
      "collapsed_sections": [
        "dwSyU2AjXwc-"
      ],
      "provenance": []
    },
    "kernelspec": {
      "display_name": "Python 3",
      "name": "python3"
    },
    "language_info": {
      "codemirror_mode": {
        "name": "ipython",
        "version": 3
      },
      "file_extension": ".py",
      "mimetype": "text/x-python",
      "name": "python",
      "nbconvert_exporter": "python",
      "pygments_lexer": "ipython3",
      "version": "3.12.4"
    }
  },
  "nbformat": 4,
  "nbformat_minor": 0
}
